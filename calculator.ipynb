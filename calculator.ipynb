{
 "metadata": {
  "language_info": {
   "codemirror_mode": {
    "name": "ipython",
    "version": 3
   },
   "file_extension": ".py",
   "mimetype": "text/x-python",
   "name": "python",
   "nbconvert_exporter": "python",
   "pygments_lexer": "ipython3",
   "version": "3.7.0"
  },
  "orig_nbformat": 4,
  "kernelspec": {
   "name": "python3",
   "display_name": "Python 3.7.0 32-bit"
  },
  "interpreter": {
   "hash": "16cd42bf2cde40e5017a1e02d8457827632c0f4468e5ea4aac2a1dd0c8e3f955"
  }
 },
 "nbformat": 4,
 "nbformat_minor": 2,
 "cells": [
  {
   "cell_type": "code",
   "execution_count": 2,
   "metadata": {},
   "outputs": [
    {
     "output_type": "stream",
     "name": "stdout",
     "text": [
      "0.75\n"
     ]
    }
   ],
   "source": [
    "num1 = float(input(\"Enter first number: \"))\r\n",
    "op = input(\"Enter first number: \")\r\n",
    "num2 = float(input(\"Enter second number: \"))\r\n",
    "\r\n",
    "if op == \"+\":\r\n",
    "    print(num1 + num2)\r\n",
    "elif op == \"-\":\r\n",
    "        print(num1 - num2)\r\n",
    "elif op == \"/\":\r\n",
    "         print(num1 / num2)\r\n",
    "elif op == \"*\":\r\n",
    "         print(num1 * num2)\r\n",
    "else:\r\n",
    "        print(\"Invalid operator\")"
   ]
  }
 ]
}